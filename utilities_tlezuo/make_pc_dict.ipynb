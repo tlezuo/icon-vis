{
 "cells": [
  {
   "cell_type": "code",
   "execution_count": 12,
   "metadata": {},
   "outputs": [],
   "source": [
    "import sys\n",
    "from pathlib import Path\n",
    "import numpy as np\n",
    "import xarray as xr\n",
    "import psyplot.project as psy\n",
    "import iconarray as iconvis # import self-written modules from iconarray\n",
    "from typing import List"
   ]
  },
  {
   "cell_type": "code",
   "execution_count": 13,
   "metadata": {},
   "outputs": [],
   "source": [
    "class Point_coordinates:\n",
    "    def __init__(self, shortname, name, color, marker, lat, lon, altitude, iconID, iconHSURF, iconHHL, iconHFL, height_dict, subsetID,station_type,provider ):\n",
    "        self.short = shortname\n",
    "        self.name = name\n",
    "        self.color = color\n",
    "        self.marker = marker\n",
    "        self.lat = lat\n",
    "        self.lon = lon\n",
    "        self.alt = altitude\n",
    "        self.iconID = iconID \n",
    "        self.iconHSURF = iconHSURF\n",
    "        self.iconHHL = iconHHL\n",
    "        self.iconHFL = iconHFL\n",
    "        self.hdict = height_dict \n",
    "        self.subsetID = subsetID\n",
    "        self.type = station_type\n",
    "        self.provider = provider"
   ]
  },
  {
   "cell_type": "code",
   "execution_count": 14,
   "metadata": {},
   "outputs": [],
   "source": [
    "# Start by loading dict created with Toni's Metadata from Stations.csv\n",
    "loadpath= '/users/tlezuo/toni_codes/PLOTS/'\n",
    "point_coordinates_dict = np.load(loadpath+'point_coordinates_dict.npy',allow_pickle='TRUE').item()"
   ]
  },
  {
   "cell_type": "code",
   "execution_count": 15,
   "metadata": {},
   "outputs": [],
   "source": [
    "for k, v in point_coordinates_dict.items():\n",
    "    point_coordinates_dict[k].station_type = 'toni'"
   ]
  },
  {
   "cell_type": "code",
   "execution_count": 16,
   "metadata": {},
   "outputs": [],
   "source": [
    "# Append all extra locations I want to have\n",
    "point_coordinates_dict['inn']=Point_coordinates('inn','Innsbruck', 'k','.',47.26,11.42,0,0,0,[],[],{},0,'ibox','acinn')\n",
    "point_coordinates_dict['sal']=Point_coordinates('sal','Salzburg', 'k','.', 47.79,13.09,0,0,0,[],[],{},0,'ibox','acinn')\n",
    "point_coordinates_dict['mun']=Point_coordinates('mun','Munich','k','.',48.14,11.57,0,0,0,[],[],{},0,'ibox','acinn')\n",
    "point_coordinates_dict['bz']=Point_coordinates('bz','Bozen','k','.', 46.49,11.36,0,0,0,[],[],{},0,'ibox','acinn')\n",
    "point_coordinates_dict['ver']=Point_coordinates('ver','Verona', 'k','.',45.43,10.99,0,0,0,[],[],{},0,'ibox','acinn')\n",
    "point_coordinates_dict['ven']=Point_coordinates('ven','Venice','k','.',45.33,12.27,0,0,0,[],[],{},0,'ibox','acinn')\n",
    "point_coordinates_dict['iun']=Point_coordinates('iun','stat Universität','gold',\"$u$\",47.2642889,11.3861614,0,0,0,[],[],{},0,'ibox','acinn')\n",
    "point_coordinates_dict['ifl']=Point_coordinates('ifl','Innsbruck Airport','gold',\"$f$\",47.25846,11.3521825,579,808260,0,[],[],{},0,'ibox','acinn')\n",
    "point_coordinates_dict['murs']=Point_coordinates('murs','Munich','gold',\".\",48.25,11.55,492,753969,0,[],[],{},0,'ibox','acinn')\n",
    "point_coordinates_dict.update({'hoch':Point_coordinates('hoch','Hochhaueser','violet',\"$h$\",47.28755, 11.63122,1009,810547,0,[],[],{},0,'ibox','acinn')})\n",
    "point_coordinates_dict['kols']= Point_coordinates('kols','Kolsass','darkviolet',\"$k$\",47.305, 11.622,547,810552,0,[],[],{},0,'ibox','acinn')\n",
    "point_coordinates_dict['egg']=Point_coordinates('egg','Eggen','violet',\"$e$\",47.3165,11.6162,892,810583,0,[],[],{},0,'ibox','acinn')\n",
    "point_coordinates_dict['weer']=Point_coordinates('weer','Weerberg','violet',\"$w$\",47.299,11.672,930,810560,0,[],[],{},0,'ibox','acinn')\n",
    "point_coordinates_dict['terf']=Point_coordinates('terf','Terfens','violet',\"$t$\", 47.325538,11.65247,575,810571,0,[],[],{},0,'ibox','acinn')\n",
    "point_coordinates_dict['arb']=Point_coordinates('arb','Arbeser','violet',\"$a$\",47.320654,11.746592,2015,811094,0,[],[],{},0,'ibox','acinn')\n",
    "\n",
    " ## ADD NEW LOCS HERE ###\n",
    "# point_coordinates_dict['AAAAAAAAAAAAAAAAAAAAAAAA']=\n",
    "# point_coordinates_dict['AAAAAAAAAAAAAAAAAAAAAAAA']=\n",
    "# point_coordinates_dict['AAAAAAAAAAAAAAAAAAAAAAAA']=\n",
    "# point_coordinates_dict['AAAAAAAAAAAAAAAAAAAAAAAA']="
   ]
  },
  {
   "cell_type": "code",
   "execution_count": 17,
   "metadata": {},
   "outputs": [],
   "source": [
    "## GET icon gridpoint id to include it in the lf.loc.iconID for new stations\n",
    "\n",
    "# load cont file\n",
    "nc_file_c = '/store/s83/tlezuo/RUN2_reference/lfff00000000c.nc'\n",
    "data_c = psy.open_dataset(nc_file_c)\n",
    "\n",
    "# get model grid information\n",
    "HFL = (data_c['HHL'][1:].values + (data_c['HHL'][:-1].values-data_c['HHL'][1:].values)/2)\n",
    "HHL = data_c['HHL'].values\n",
    "HSURF = data_c['HSURF'].values\n",
    "lats = np.rad2deg(data_c.clat.values[:])\n",
    "lons = np.rad2deg(data_c.clon.values[:])"
   ]
  },
  {
   "cell_type": "code",
   "execution_count": 18,
   "metadata": {},
   "outputs": [],
   "source": [
    "# ## THIERRY VERSION\n",
    "# # \n",
    "# # # get dict information into lists\n",
    "# pc_short_list = point_coordinates_dict.keys()\n",
    "# pc_values: List[Point_coordinates] = point_coordinates_dict.values()\n",
    "# lats_stat = [c.lat for c in pc_values]\n",
    "# lons_stat = [c.lon for c in pc_values]\n",
    "\n",
    "# # get index and save it in list\n",
    "# pc_iconID_list = [iconvis.ind_from_latlon(lats,lons,lat,lon,verbose=True)for lat,lon in zip(lats_stat,lons_stat)]\n",
    "# # put this list into pc_dict\n",
    "# out_dict = {s.iconID: t for s, t in zip(pc_short_list, pc_iconID_list)}\n",
    "\n",
    "# # get dict lists\n",
    "# pc_short_list = point_coordinates_dict.keys()\n",
    "# pc_values: List[Point_coordinates] = point_coordinates_dict.values()\n",
    "# pc_iconID_list = [c.iconID for c in pc_values]\n",
    "\n",
    "# # idee von Thierry um Zeitreihen ins point coordinate dict zu tun\n",
    "# # temps = [] # TODO\n",
    "# # out_dict = {s: t for s, t in zip(shorts, temps)}"
   ]
  },
  {
   "cell_type": "code",
   "execution_count": 19,
   "metadata": {},
   "outputs": [
    {
     "name": "stdout",
     "output_type": "stream",
     "text": [
      "Closest ind: 476700\n",
      " Given lat: 47.140 vs found lat: 47.140\n",
      " Given lon: 10.564 vs found lon: 10.563\n",
      "the grid index for Landeck is 476700\n",
      "Closest ind: 475989\n",
      " Given lat: 47.237 vs found lat: 47.238\n",
      " Given lon: 10.742 vs found lon: 10.742\n",
      "the grid index for Imst is 475989\n",
      "Closest ind: 807401\n",
      " Given lat: 47.260 vs found lat: 47.260\n",
      " Given lon: 10.889 vs found lon: 10.892\n",
      "the grid index for Haiming is 807401\n",
      "Closest ind: 815236\n",
      " Given lat: 47.421 vs found lat: 47.416\n",
      " Given lon: 10.985 vs found lon: 10.988\n",
      "the grid index for Zugspitze is 815236\n",
      "Closest ind: 844147\n",
      " Given lat: 47.575 vs found lat: 47.572\n",
      " Given lon: 12.163 vs found lon: 12.164\n",
      "the grid index for Kufstein is 844147\n",
      "Closest ind: 844050\n",
      " Given lat: 47.619 vs found lat: 47.620\n",
      " Given lon: 12.166 vs found lon: 12.173\n",
      "the grid index for Kiefersfelden-Gach is 844050\n",
      "Closest ind: 817598\n",
      " Given lat: 47.875 vs found lat: 47.868\n",
      " Given lon: 12.128 vs found lon: 12.131\n",
      "the grid index for Rosenheim is 817598\n",
      "Closest ind: 816461\n",
      " Given lat: 48.163 vs found lat: 48.157\n",
      " Given lon: 11.543 vs found lon: 11.545\n",
      "the grid index for München-Stadt is 816461\n",
      "Closest ind: 811343\n",
      " Given lat: 47.397 vs found lat: 47.393\n",
      " Given lon: 11.940 vs found lon: 11.938\n",
      "the grid index for Alpbach is 811343\n",
      "Closest ind: 810583\n",
      " Given lat: 47.316 vs found lat: 47.316\n",
      " Given lon: 11.616 vs found lon: 11.617\n",
      "the grid index for Eggen is 810583\n",
      "Closest ind: 810571\n",
      " Given lat: 47.326 vs found lat: 47.322\n",
      " Given lon: 11.652 vs found lon: 11.656\n",
      "the grid index for Terfens is 810571\n",
      "Closest ind: 810547\n",
      " Given lat: 47.288 vs found lat: 47.284\n",
      " Given lon: 11.631 vs found lon: 11.632\n",
      "the grid index for Hochhaueser is 810547\n",
      "Closest ind: 810552\n",
      " Given lat: 47.305 vs found lat: 47.307\n",
      " Given lon: 11.622 vs found lon: 11.620\n",
      "the grid index for Kolsass is 810552\n",
      "Closest ind: 810560\n",
      " Given lat: 47.299 vs found lat: 47.299\n",
      " Given lon: 11.672 vs found lon: 11.669\n",
      "the grid index for Weerberg is 810560\n",
      "Closest ind: 811094\n",
      " Given lat: 47.321 vs found lat: 47.325\n",
      " Given lon: 11.747 vs found lon: 11.751\n",
      "the grid index for Arbeser is 811094\n",
      "Closest ind: 809832\n",
      " Given lat: 47.249 vs found lat: 47.247\n",
      " Given lon: 11.504 vs found lon: 11.505\n",
      "the grid index for Rinn is 809832\n",
      "Closest ind: 809886\n",
      " Given lat: 47.260 vs found lat: 47.256\n",
      " Given lon: 11.384 vs found lon: 11.382\n",
      "the grid index for UIBK is 809886\n",
      "Closest ind: 808260\n",
      " Given lat: 47.258 vs found lat: 47.263\n",
      " Given lon: 11.352 vs found lon: 11.346\n",
      "the grid index for Innsbruck Airport is 808260\n"
     ]
    },
    {
     "ename": "KeyboardInterrupt",
     "evalue": "",
     "output_type": "error",
     "traceback": [
      "\u001b[0;31m---------------------------------------------------------------------------\u001b[0m",
      "\u001b[0;31mKeyboardInterrupt\u001b[0m                         Traceback (most recent call last)",
      "\u001b[1;32m/users/tlezuo/icon-vis/utilities_tlezuo/make_pc_dict.ipynb Cell 8\u001b[0m in \u001b[0;36m1\n\u001b[1;32m      <a href='vscode-notebook-cell://ssh-remote%2Btsa/users/tlezuo/icon-vis/utilities_tlezuo/make_pc_dict.ipynb#W6sdnNjb2RlLXJlbW90ZQ%3D%3D?line=6'>7</a>\u001b[0m point_coordinates_dict[key]\u001b[39m.\u001b[39msubsetID \u001b[39m=\u001b[39m subsetID\n\u001b[1;32m      <a href='vscode-notebook-cell://ssh-remote%2Btsa/users/tlezuo/icon-vis/utilities_tlezuo/make_pc_dict.ipynb#W6sdnNjb2RlLXJlbW90ZQ%3D%3D?line=8'>9</a>\u001b[0m \u001b[39m# get iconID\u001b[39;00m\n\u001b[0;32m---> <a href='vscode-notebook-cell://ssh-remote%2Btsa/users/tlezuo/icon-vis/utilities_tlezuo/make_pc_dict.ipynb#W6sdnNjb2RlLXJlbW90ZQ%3D%3D?line=9'>10</a>\u001b[0m ind \u001b[39m=\u001b[39m iconvis\u001b[39m.\u001b[39mind_from_latlon(lats,lons,loc\u001b[39m.\u001b[39mlat,loc\u001b[39m.\u001b[39mlon,verbose\u001b[39m=\u001b[39m\u001b[39mTrue\u001b[39;00m)\n\u001b[1;32m     <a href='vscode-notebook-cell://ssh-remote%2Btsa/users/tlezuo/icon-vis/utilities_tlezuo/make_pc_dict.ipynb#W6sdnNjb2RlLXJlbW90ZQ%3D%3D?line=10'>11</a>\u001b[0m point_coordinates_dict[key]\u001b[39m.\u001b[39miconID \u001b[39m=\u001b[39m ind\n\u001b[1;32m     <a href='vscode-notebook-cell://ssh-remote%2Btsa/users/tlezuo/icon-vis/utilities_tlezuo/make_pc_dict.ipynb#W6sdnNjb2RlLXJlbW90ZQ%3D%3D?line=11'>12</a>\u001b[0m pc_iconID_list\u001b[39m.\u001b[39mappend(ind)\n",
      "File \u001b[0;32m/scratch/tlezuo/miniconda3/envs/psyplot/lib/python3.9/site-packages/iconarray/core/utilities.py:20\u001b[0m, in \u001b[0;36mind_from_latlon\u001b[0;34m(lats, lons, lat, lon, verbose)\u001b[0m\n\u001b[1;32m      7\u001b[0m \u001b[39mdef\u001b[39;00m \u001b[39mind_from_latlon\u001b[39m(lats, lons, lat, lon, verbose\u001b[39m=\u001b[39m\u001b[39mFalse\u001b[39;00m):\n\u001b[1;32m      8\u001b[0m     \u001b[39m\"\"\"Find the nearest neighbouring index to given location.\u001b[39;00m\n\u001b[1;32m      9\u001b[0m \n\u001b[1;32m     10\u001b[0m \u001b[39m    Args:\u001b[39;00m\n\u001b[0;32m   (...)\u001b[0m\n\u001b[1;32m     18\u001b[0m \u001b[39m        int     Index of nearest grid point.\u001b[39;00m\n\u001b[1;32m     19\u001b[0m \u001b[39m    \"\"\"\u001b[39;00m\n\u001b[0;32m---> 20\u001b[0m     dist \u001b[39m=\u001b[39m [\n\u001b[1;32m     21\u001b[0m         np\u001b[39m.\u001b[39msqrt((lats[i] \u001b[39m-\u001b[39m lat) \u001b[39m*\u001b[39m\u001b[39m*\u001b[39m \u001b[39m2\u001b[39m \u001b[39m+\u001b[39m (lons[i] \u001b[39m-\u001b[39m lon) \u001b[39m*\u001b[39m\u001b[39m*\u001b[39m \u001b[39m2\u001b[39m) \u001b[39mfor\u001b[39;00m i \u001b[39min\u001b[39;00m \u001b[39mrange\u001b[39m(\u001b[39mlen\u001b[39m(lats))\n\u001b[1;32m     22\u001b[0m     ]\n\u001b[1;32m     23\u001b[0m     ind \u001b[39m=\u001b[39m np\u001b[39m.\u001b[39mwhere(dist \u001b[39m==\u001b[39m np\u001b[39m.\u001b[39mmin(dist))[\u001b[39m0\u001b[39m][\u001b[39m0\u001b[39m]\n\u001b[1;32m     24\u001b[0m     \u001b[39mif\u001b[39;00m verbose:\n",
      "File \u001b[0;32m/scratch/tlezuo/miniconda3/envs/psyplot/lib/python3.9/site-packages/iconarray/core/utilities.py:21\u001b[0m, in \u001b[0;36m<listcomp>\u001b[0;34m(.0)\u001b[0m\n\u001b[1;32m      7\u001b[0m \u001b[39mdef\u001b[39;00m \u001b[39mind_from_latlon\u001b[39m(lats, lons, lat, lon, verbose\u001b[39m=\u001b[39m\u001b[39mFalse\u001b[39;00m):\n\u001b[1;32m      8\u001b[0m     \u001b[39m\"\"\"Find the nearest neighbouring index to given location.\u001b[39;00m\n\u001b[1;32m      9\u001b[0m \n\u001b[1;32m     10\u001b[0m \u001b[39m    Args:\u001b[39;00m\n\u001b[0;32m   (...)\u001b[0m\n\u001b[1;32m     18\u001b[0m \u001b[39m        int     Index of nearest grid point.\u001b[39;00m\n\u001b[1;32m     19\u001b[0m \u001b[39m    \"\"\"\u001b[39;00m\n\u001b[1;32m     20\u001b[0m     dist \u001b[39m=\u001b[39m [\n\u001b[0;32m---> 21\u001b[0m         np\u001b[39m.\u001b[39msqrt((lats[i] \u001b[39m-\u001b[39m lat) \u001b[39m*\u001b[39m\u001b[39m*\u001b[39m \u001b[39m2\u001b[39m \u001b[39m+\u001b[39m (lons[i] \u001b[39m-\u001b[39;49m lon) \u001b[39m*\u001b[39m\u001b[39m*\u001b[39m \u001b[39m2\u001b[39m) \u001b[39mfor\u001b[39;00m i \u001b[39min\u001b[39;00m \u001b[39mrange\u001b[39m(\u001b[39mlen\u001b[39m(lats))\n\u001b[1;32m     22\u001b[0m     ]\n\u001b[1;32m     23\u001b[0m     ind \u001b[39m=\u001b[39m np\u001b[39m.\u001b[39mwhere(dist \u001b[39m==\u001b[39m np\u001b[39m.\u001b[39mmin(dist))[\u001b[39m0\u001b[39m][\u001b[39m0\u001b[39m]\n\u001b[1;32m     24\u001b[0m     \u001b[39mif\u001b[39;00m verbose:\n",
      "\u001b[0;31mKeyboardInterrupt\u001b[0m: "
     ]
    }
   ],
   "source": [
    "pc_iconID_list = []\n",
    "pc_short_list = ['LAN','IMS','HAI','ZUG','KUF','KIE','ROS','MUC','ALP','egg','terf','hoch','kols','weer','arb','RIN','UNI','ifl','murs']\n",
    "\n",
    "for subsetID,key in enumerate(pc_short_list):\n",
    "    loc = point_coordinates_dict[key]\n",
    "    # save subsetID in dict\n",
    "    point_coordinates_dict[key].subsetID = subsetID\n",
    "\n",
    "    # get iconID\n",
    "    ind = iconvis.ind_from_latlon(lats,lons,loc.lat,loc.lon,verbose=True)\n",
    "    point_coordinates_dict[key].iconID = ind\n",
    "    pc_iconID_list.append(ind)\n",
    "\n",
    "    # get model altitudes\n",
    "    HFL_loc = HFL[:,ind][::-1]\n",
    "    point_coordinates_dict[key].iconHFL = HFL_loc\n",
    "    HHL_loc = HHL[:,ind][::-1]\n",
    "    point_coordinates_dict[key].iconHHL = HHL_loc\n",
    "    HSURF_loc = HSURF[ind]\n",
    "    point_coordinates_dict[key].iconHSURF = HSURF_loc\n",
    "\n",
    "    # print('the coordinates for this ind are lat= '+str(np.rad2deg(data_c.clat[ind].values))+' lon= '+str(np.rad2deg(data_c.clon[ind].values)))\n",
    "    print('the grid index for '+loc.name+' is '+str(ind))\n",
    "    # print('the lowest level has a height of half level of '+str(np.round(HFL_loc[0])))\n",
    "    # print('the lowest level has a height of full level of '+str(np.round(HHL_loc[0])))\n",
    "    # print('the model topography is '+str(np.round(HSURF_loc)))\n"
   ]
  },
  {
   "cell_type": "code",
   "execution_count": null,
   "metadata": {},
   "outputs": [],
   "source": [
    "## UPDATE height dictionaries ##\n",
    "point_coordinates_dict['hoch'].hdict = {'T_2M':6.83,'VEL_10M':7.08,'DIR_10M':7.08, 'TKEs':1.50,'turb2':7.08,'rad':2.00, }\n",
    "point_coordinates_dict['kols'].hdict = {'T_2M':8.68,#2,4,8.68,16.93\n",
    "                                                                            'VEL_10M':8.68, #2,4,6,12\n",
    "                                                                            'DIR_10M':8.68,\n",
    "                                                                            'TKEs':4.00,\n",
    "                                                                            'turb2':8.68,\n",
    "                                                                            'turb3':16.93,\n",
    "                                                                            'rad':2.00,\n",
    "                                                                            }"
   ]
  },
  {
   "cell_type": "code",
   "execution_count": null,
   "metadata": {},
   "outputs": [],
   "source": [
    "# save dict itself\n",
    "np.save('pc_dict.npy',point_coordinates_dict)"
   ]
  },
  {
   "cell_type": "code",
   "execution_count": null,
   "metadata": {},
   "outputs": [],
   "source": [
    "# get shortnames of dict - not needed anymore as list selected explicitly above\n",
    "# pc_values: List[Point_coordinates] = point_coordinates_dict.values()\n",
    "# pc_short_list = [c.short for c in pc_values]\n",
    " \n",
    "# save pc_dict_lists\n",
    "import pickle\n",
    "with open ('pc_iconID_list','wb') as f:\n",
    "    pickle.dump(pc_iconID_list,f)\n",
    "with open ('pc_short_list','wb') as f:\n",
    "    pickle.dump(pc_short_list,f)"
   ]
  }
 ],
 "metadata": {
  "kernelspec": {
   "display_name": "psyplot",
   "language": "python",
   "name": "python3"
  },
  "language_info": {
   "codemirror_mode": {
    "name": "ipython",
    "version": 3
   },
   "file_extension": ".py",
   "mimetype": "text/x-python",
   "name": "python",
   "nbconvert_exporter": "python",
   "pygments_lexer": "ipython3",
   "version": "3.9.7"
  },
  "orig_nbformat": 4,
  "vscode": {
   "interpreter": {
    "hash": "478e531c87c13fe08171e1b9df5753f0dadfbce7da2a4d3339f723631ea7933b"
   }
  }
 },
 "nbformat": 4,
 "nbformat_minor": 2
}
