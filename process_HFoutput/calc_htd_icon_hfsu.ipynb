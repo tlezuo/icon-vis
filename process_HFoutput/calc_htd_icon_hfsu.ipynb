{
 "cells": [
  {
   "cell_type": "code",
   "execution_count": 7,
   "metadata": {},
   "outputs": [],
   "source": [
    "# third party\n",
    "import sys\n",
    "import matplotlib.pyplot as plt\n",
    "import numpy as np\n",
    "import sys\n",
    "from pathlib import Path\n",
    "import psyplot.project as psy\n",
    "import pandas as pd\n",
    "import xarray\n",
    "from netCDF4 import Dataset,date2num\n",
    "import metpy.calc as calc\n",
    "from metpy.units import units\n",
    "import datetime as dt\n",
    "import pandas as pd\n",
    "from iconarray.plot import formatoptions # import plotting formatoptions (for use with psyplot)\n",
    "import iconarray as iconvis # import self-written modules from iconarray\n",
    "import io, os, sys, types\n",
    "import pickle\n",
    "\n",
    "# first party\n",
    "sys.path.append('../utilities_tlezuo/')\n",
    "from timefunctions import *\n",
    "import varfunctions as vf\n",
    "import locfunctions as lf\n"
   ]
  },
  {
   "cell_type": "code",
   "execution_count": 8,
   "metadata": {},
   "outputs": [],
   "source": [
    "# define class of pc_dict\n",
    "class Point_coordinates:\n",
    "    def __init__(self, shortname, name, color, marker, lat, lon, altitude, iconID, iconHSURF, iconHHL, iconHFL, height_dict):\n",
    "        self.short = shortname\n",
    "        self.name = name\n",
    "        self.color = color\n",
    "        self.marker = marker\n",
    "        self.lat = lat\n",
    "        self.lon = lon\n",
    "        self.alt = altitude\n",
    "        self.iconID = iconID \n",
    "        self.iconHSURF = iconHSURF\n",
    "        self.iconHHL = iconHHL\n",
    "        self.iconHFL = iconHFL\n",
    "        self.hdict = height_dict \n",
    "\n",
    "\n",
    "# load pc_dict and its lists\n",
    "pc_dict = np.load('../utilities_tlezuo/pc_dict.npy',allow_pickle=True).item()\n",
    "with open ('../utilities_tlezuo/pc_iconID_list','rb') as f:\n",
    "    pc_iconID_list = pickle.load(f)\n",
    "with open ('../utilities_tlezuo/pc_short_list','rb') as a:\n",
    "    pc_short_list = pickle.load(a)"
   ]
  },
  {
   "cell_type": "code",
   "execution_count": 9,
   "metadata": {},
   "outputs": [],
   "source": [
    "###############################################################################################\n",
    "## DECIDE ##\n",
    "\n",
    "# RUN\n",
    "run = 'RUN2_reference'\n",
    "filepath = '/store/s83/tlezuo/'+run+'/out_hfsu/'\n",
    "savepath = '/users/tlezuo/icon-vis/data/data_hfsu/'\n",
    "\n",
    "# VARIABLES\n",
    "pvars_list= [vf.T, vf.TKE, vf.TKEtend_shear, vf.TKEtend_conv, vf.TKEVELtend] # 3d\n",
    "spvars_list = [vf.T_2M,vf.QV_2M,vf.U_10M,vf.V_10M, vf.SH_s, vf.LH_s, vf.SWnet_s, vf.LWnet_s] #2d surf\n",
    "scvars_list = [vf.VEL_10M, vf.DIR_10M] # to be calculated\n",
    "\n",
    "# TIME\n",
    "startdate = dt.datetime(2019,9,13,00,00)\n",
    "enddate = dt.datetime(2019,9,14,00,00)\n",
    "plotfreq = '0h0min10s'\n",
    "simdate = dt.datetime(2019,9,12,12,00) # no change,. simulation start\n",
    "plotdates = pd.date_range(startdate,enddate,freq=plotfreq)\n",
    "# lfffhfsu00120\n"
   ]
  },
  {
   "cell_type": "code",
   "execution_count": 10,
   "metadata": {},
   "outputs": [],
   "source": [
    "## BIG READ IN ##\n",
    "\n",
    "# read in all nc files at once, parallelized only on node!\n",
    "# data=xarray.open_mfdataset(filepath+'lfffhfsu00120*')\n",
    "\n",
    "# read in all nc files at once, parallelized only on node!\n",
    "data=xarray.open_mfdataset(filepath+'lfffhfsu00120*')\n",
    "\n",
    "# htd timeseries = selecting our locations\n",
    "hfsu_htd_data = data.sel(ncells=pc_iconID_list,drop=False)\n",
    "\n",
    "# calculate new vars\n",
    "hfsu_htd_data = hfsu_htd_data.assign(VEL_10m=vf.calculate_wind_vel_from_uv(hfsu_htd_data['u_10m'],hfsu_htd_data['v_10m']))\n",
    "hfsu_htd_data = hfsu_htd_data.assign(DIR_10m=vf.calculate_wind_dir_from_uv(hfsu_htd_data['u_10m'],hfsu_htd_data['v_10m']))\n",
    "\n",
    "# surface timeseries\n",
    "hfsu_ts_data = hfsu_htd_data.sel(height_4=80)"
   ]
  },
  {
   "cell_type": "code",
   "execution_count": 11,
   "metadata": {},
   "outputs": [],
   "source": [
    "# how to select a loaction\n",
    "# hfsu_ts_data.sel(ncells=pc_dict['kols'].subsetID).T"
   ]
  },
  {
   "cell_type": "code",
   "execution_count": 12,
   "metadata": {},
   "outputs": [],
   "source": [
    "## SAVE ##\n",
    "# hfsu_htd_data.to_netcdf(savepath+'hfsu_htd_data_'+run+'.nc')\n",
    "hfsu_ts_data.to_netcdf(savepath+'hfsu_ts_data_'+run+'.nc')\n",
    "# intsu_htd_data.to_netcdf(savepath+'intsu_htd_data_'+run+'.nc')"
   ]
  }
 ],
 "metadata": {
  "kernelspec": {
   "display_name": "Python 3",
   "language": "python",
   "name": "python3"
  },
  "language_info": {
   "codemirror_mode": {
    "name": "ipython",
    "version": 3
   },
   "file_extension": ".py",
   "mimetype": "text/x-python",
   "name": "python",
   "nbconvert_exporter": "python",
   "pygments_lexer": "ipython3",
   "version": "3.9.7"
  },
  "orig_nbformat": 4,
  "vscode": {
   "interpreter": {
    "hash": "478e531c87c13fe08171e1b9df5753f0dadfbce7da2a4d3339f723631ea7933b"
   }
  }
 },
 "nbformat": 4,
 "nbformat_minor": 2
}
