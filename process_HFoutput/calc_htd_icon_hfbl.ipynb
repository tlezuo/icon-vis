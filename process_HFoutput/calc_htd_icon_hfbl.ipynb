{
 "cells": [
  {
   "cell_type": "code",
   "execution_count": 1,
   "metadata": {},
   "outputs": [
    {
     "name": "stderr",
     "output_type": "stream",
     "text": [
      "INFO:numexpr.utils:Note: NumExpr detected 36 cores but \"NUMEXPR_MAX_THREADS\" not set, so enforcing safe limit of 8.\n",
      "INFO:numexpr.utils:NumExpr defaulting to 8 threads.\n"
     ]
    }
   ],
   "source": [
    "#!/usr/bin/env python3\n",
    "\n",
    "# third party\n",
    "import sys\n",
    "import matplotlib.pyplot as plt\n",
    "import numpy as np\n",
    "import sys\n",
    "from pathlib import Path\n",
    "import psyplot.project as psy\n",
    "import pandas as pd\n",
    "import xarray\n",
    "from netCDF4 import Dataset,date2num\n",
    "import metpy.calc as calc\n",
    "from metpy.units import units\n",
    "import datetime as dt\n",
    "import pandas as pd\n",
    "from iconarray.plot import formatoptions # import plotting formatoptions (for use with psyplot)\n",
    "import iconarray as iconvis # import self-written modules from iconarray\n",
    "import io, os, sys, types\n",
    "import pickle\n",
    "\n",
    "# first party\n",
    "sys.path.append('../utilities_tlezuo/')\n",
    "from timefunctions import *\n",
    "import varfunctions as vf\n",
    "import locfunctions as lf\n"
   ]
  },
  {
   "cell_type": "code",
   "execution_count": 2,
   "metadata": {},
   "outputs": [],
   "source": [
    "\n",
    "###############################################################################################\n",
    "# define class of pc_dict\n",
    "class Point_coordinates:\n",
    "    def __init__(self, shortname, name, color, marker, lat, lon, altitude, iconID, iconHSURF, iconHHL, iconHFL, height_dict):\n",
    "        self.short = shortname\n",
    "        self.name = name\n",
    "        self.color = color\n",
    "        self.marker = marker\n",
    "        self.lat = lat\n",
    "        self.lon = lon\n",
    "        self.alt = altitude\n",
    "        self.iconID = iconID \n",
    "        self.iconHSURF = iconHSURF\n",
    "        self.iconHHL = iconHHL\n",
    "        self.iconHFL = iconHFL\n",
    "        self.hdict = height_dict \n",
    "\n",
    "\n",
    "# load pc_dict and its lists\n",
    "pc_dict = np.load('../utilities_tlezuo/pc_dict.npy',allow_pickle=True).item()\n",
    "with open ('../utilities_tlezuo/pc_iconID_list','rb') as f:\n",
    "    pc_iconID_list = pickle.load(f)\n",
    "with open ('../utilities_tlezuo/pc_short_list','rb') as a:\n",
    "    pc_short_list = pickle.load(a)\n",
    "\n",
    "###############################################################################################\n",
    "## DECIDE ##\n",
    "\n",
    "# RUN\n",
    "run = 'RUN2_reference'\n",
    "filepath = '/store/s83/tlezuo/'+run+'/out_hfbl/'\n",
    "savepath = '/users/tlezuo/icon-vis/data/data_hfbl/'\n",
    "\n",
    "###############################################################################################\n",
    "# VARIABLES\n",
    "pvars_list= [vf.T, vf.TKEVELtend, vf.Ttend_clcov, vf.Ttend_drag, vf.Ttend_pconv, vf.Ttend_radlw, vf.Ttend_radsw, vf.Ttend_turb, vf.Ttend_dyn] # 3d\n",
    "\n",
    "# TIME\n",
    "startdate = dt.datetime(2019,9,13,00,00)\n",
    "enddate = dt.datetime(2019,9,14,00,00)\n",
    "plotfreq = '0h0min10s'\n",
    "simdate = dt.datetime(2019,9,12,12,00) # no change,. simulation start\n",
    "plotdates = pd.date_range(startdate,enddate,freq=plotfreq)\n"
   ]
  },
  {
   "cell_type": "code",
   "execution_count": 3,
   "metadata": {},
   "outputs": [],
   "source": [
    "###############################################################################################\n",
    "## BIG READ IN ##\n",
    "\n",
    "# read in all nc files at once, parallelized only on node!\n",
    "data=xarray.open_mfdataset(filepath+'lfffhfbl0012*', parallel=True)\n",
    "\n",
    "# htd timeseries = selecting our locations\n",
    "hfbl_htd_data = data.sel(ncells=pc_iconID_list,drop=False)\n",
    "\n",
    "# surface timeseries\n",
    "hfbl_ts_data = hfbl_htd_data.sel(height=80, height_2 = 80)\n",
    "\n",
    "# surface timeseries integrated: sum of tendencies each hour *10s \n",
    "sumbl_ts_data=hfbl_ts_data.groupby(\"time.hour\").sum(dim='time')*10\n",
    "hfbl_ts_data_p10s = hfbl_ts_data*10\n",
    "sumbl_ts_data_new = hfbl_ts_data_p10s.groupby(\"time.hour\").sum(dim='time')\n",
    "\n",
    "# htd timeseries integrated\n",
    "# only for 3 rs and lidar locations\n",
    "pc_short_list_hfblvert = ['ifl','kols','murs']\n",
    "pc_iconID_list_hfblvert = [17,12,18] # these are the new indices in the subset (pc_dict[kols].subsetID = 12)\n",
    "hfbl_htd_data_hfblvert = hfbl_htd_data.sel(ncells=pc_iconID_list_hfblvert,drop=False)\n",
    "sumbl_htd_data=hfbl_htd_data_hfblvert.groupby(\"time.hour\").sum(dim='time')*10"
   ]
  },
  {
   "cell_type": "code",
   "execution_count": 4,
   "metadata": {},
   "outputs": [
    {
     "name": "stdout",
     "output_type": "stream",
     "text": [
      "<xarray.DataArray 'hour' (hour: 1)>\n",
      "array([0])\n",
      "Coordinates:\n",
      "    height    float64 80.0\n",
      "    height_2  float64 80.0\n",
      "  * hour      (hour) int64 0 [[ 0.00000000e+00  0.00000000e+00  6.93889390e-18  0.00000000e+00\n",
      "   0.00000000e+00 -8.88178420e-16  1.11022302e-16  0.00000000e+00\n",
      "   8.88178420e-16  0.00000000e+00 -2.77555756e-17  1.11022302e-16\n",
      "   2.77555756e-17  4.44089210e-16  0.00000000e+00 -2.77555756e-17\n",
      "   5.55111512e-17 -2.77555756e-17  0.00000000e+00]]\n"
     ]
    }
   ],
   "source": [
    "print(sumbl_ts_data.hour, sumbl_ts_data.ddt_temp_turb.values-sumbl_ts_data_new.ddt_temp_turb.values)"
   ]
  },
  {
   "cell_type": "code",
   "execution_count": 5,
   "metadata": {},
   "outputs": [
    {
     "ename": "KeyboardInterrupt",
     "evalue": "",
     "output_type": "error",
     "traceback": [
      "\u001b[0;31m---------------------------------------------------------------------------\u001b[0m",
      "\u001b[0;31mKeyboardInterrupt\u001b[0m                         Traceback (most recent call last)",
      "Cell \u001b[0;32mIn [5], line 5\u001b[0m\n\u001b[1;32m      1\u001b[0m \u001b[39m###############################################################################################\u001b[39;00m\n\u001b[1;32m      2\u001b[0m \u001b[39m## SAVE ##\u001b[39;00m\n\u001b[1;32m      3\u001b[0m \u001b[39m# hfbl_htd_data.to_netcdf(savepath+'hfbl_htd_data_'+run+'.nc')\u001b[39;00m\n\u001b[1;32m      4\u001b[0m \u001b[39m# hfbl_ts_data.to_netcdf(savepath+'hfbl_ts_data_'+run+'.nc')\u001b[39;00m\n\u001b[0;32m----> 5\u001b[0m sumbl_ts_data\u001b[39m.\u001b[39mto_netcdf(savepath\u001b[39m+\u001b[39m\u001b[39m'\u001b[39m\u001b[39msumbl_ts_data_test_\u001b[39m\u001b[39m'\u001b[39m\u001b[39m+\u001b[39mrun\u001b[39m+\u001b[39m\u001b[39m'\u001b[39m\u001b[39m.nc\u001b[39m\u001b[39m'\u001b[39m)\n\u001b[1;32m      6\u001b[0m sumbl_htd_data\u001b[39m.\u001b[39mto_netcdf(savepath\u001b[39m+\u001b[39m\u001b[39m'\u001b[39m\u001b[39msumbl_htd_data_test_\u001b[39m\u001b[39m'\u001b[39m\u001b[39m+\u001b[39mrun\u001b[39m+\u001b[39m\u001b[39m'\u001b[39m\u001b[39m.nc\u001b[39m\u001b[39m'\u001b[39m)\n",
      "File \u001b[0;32m/scratch/tlezuo/miniconda3/envs/psyplot/lib/python3.9/site-packages/xarray/core/dataset.py:1902\u001b[0m, in \u001b[0;36mDataset.to_netcdf\u001b[0;34m(self, path, mode, format, group, engine, encoding, unlimited_dims, compute, invalid_netcdf)\u001b[0m\n\u001b[1;32m   1899\u001b[0m     encoding \u001b[39m=\u001b[39m {}\n\u001b[1;32m   1900\u001b[0m \u001b[39mfrom\u001b[39;00m \u001b[39m.\u001b[39;00m\u001b[39m.\u001b[39;00m\u001b[39mbackends\u001b[39;00m\u001b[39m.\u001b[39;00m\u001b[39mapi\u001b[39;00m \u001b[39mimport\u001b[39;00m to_netcdf\n\u001b[0;32m-> 1902\u001b[0m \u001b[39mreturn\u001b[39;00m to_netcdf(\n\u001b[1;32m   1903\u001b[0m     \u001b[39mself\u001b[39;49m,\n\u001b[1;32m   1904\u001b[0m     path,\n\u001b[1;32m   1905\u001b[0m     mode,\n\u001b[1;32m   1906\u001b[0m     \u001b[39mformat\u001b[39;49m\u001b[39m=\u001b[39;49m\u001b[39mformat\u001b[39;49m,\n\u001b[1;32m   1907\u001b[0m     group\u001b[39m=\u001b[39;49mgroup,\n\u001b[1;32m   1908\u001b[0m     engine\u001b[39m=\u001b[39;49mengine,\n\u001b[1;32m   1909\u001b[0m     encoding\u001b[39m=\u001b[39;49mencoding,\n\u001b[1;32m   1910\u001b[0m     unlimited_dims\u001b[39m=\u001b[39;49munlimited_dims,\n\u001b[1;32m   1911\u001b[0m     compute\u001b[39m=\u001b[39;49mcompute,\n\u001b[1;32m   1912\u001b[0m     invalid_netcdf\u001b[39m=\u001b[39;49minvalid_netcdf,\n\u001b[1;32m   1913\u001b[0m )\n",
      "File \u001b[0;32m/scratch/tlezuo/miniconda3/envs/psyplot/lib/python3.9/site-packages/xarray/backends/api.py:1081\u001b[0m, in \u001b[0;36mto_netcdf\u001b[0;34m(dataset, path_or_file, mode, format, group, engine, encoding, unlimited_dims, compute, multifile, invalid_netcdf)\u001b[0m\n\u001b[1;32m   1078\u001b[0m \u001b[39mif\u001b[39;00m multifile:\n\u001b[1;32m   1079\u001b[0m     \u001b[39mreturn\u001b[39;00m writer, store\n\u001b[0;32m-> 1081\u001b[0m writes \u001b[39m=\u001b[39m writer\u001b[39m.\u001b[39;49msync(compute\u001b[39m=\u001b[39;49mcompute)\n\u001b[1;32m   1083\u001b[0m \u001b[39mif\u001b[39;00m path_or_file \u001b[39mis\u001b[39;00m \u001b[39mNone\u001b[39;00m:\n\u001b[1;32m   1084\u001b[0m     store\u001b[39m.\u001b[39msync()\n",
      "File \u001b[0;32m/scratch/tlezuo/miniconda3/envs/psyplot/lib/python3.9/site-packages/xarray/backends/common.py:166\u001b[0m, in \u001b[0;36mArrayWriter.sync\u001b[0;34m(self, compute)\u001b[0m\n\u001b[1;32m    160\u001b[0m \u001b[39mimport\u001b[39;00m \u001b[39mdask\u001b[39;00m\u001b[39m.\u001b[39;00m\u001b[39marray\u001b[39;00m \u001b[39mas\u001b[39;00m \u001b[39mda\u001b[39;00m\n\u001b[1;32m    162\u001b[0m \u001b[39m# TODO: consider wrapping targets with dask.delayed, if this makes\u001b[39;00m\n\u001b[1;32m    163\u001b[0m \u001b[39m# for any discernable difference in perforance, e.g.,\u001b[39;00m\n\u001b[1;32m    164\u001b[0m \u001b[39m# targets = [dask.delayed(t) for t in self.targets]\u001b[39;00m\n\u001b[0;32m--> 166\u001b[0m delayed_store \u001b[39m=\u001b[39m da\u001b[39m.\u001b[39;49mstore(\n\u001b[1;32m    167\u001b[0m     \u001b[39mself\u001b[39;49m\u001b[39m.\u001b[39;49msources,\n\u001b[1;32m    168\u001b[0m     \u001b[39mself\u001b[39;49m\u001b[39m.\u001b[39;49mtargets,\n\u001b[1;32m    169\u001b[0m     lock\u001b[39m=\u001b[39;49m\u001b[39mself\u001b[39;49m\u001b[39m.\u001b[39;49mlock,\n\u001b[1;32m    170\u001b[0m     compute\u001b[39m=\u001b[39;49mcompute,\n\u001b[1;32m    171\u001b[0m     flush\u001b[39m=\u001b[39;49m\u001b[39mTrue\u001b[39;49;00m,\n\u001b[1;32m    172\u001b[0m     regions\u001b[39m=\u001b[39;49m\u001b[39mself\u001b[39;49m\u001b[39m.\u001b[39;49mregions,\n\u001b[1;32m    173\u001b[0m )\n\u001b[1;32m    174\u001b[0m \u001b[39mself\u001b[39m\u001b[39m.\u001b[39msources \u001b[39m=\u001b[39m []\n\u001b[1;32m    175\u001b[0m \u001b[39mself\u001b[39m\u001b[39m.\u001b[39mtargets \u001b[39m=\u001b[39m []\n",
      "File \u001b[0;32m/scratch/tlezuo/miniconda3/envs/psyplot/lib/python3.9/site-packages/dask/array/core.py:1237\u001b[0m, in \u001b[0;36mstore\u001b[0;34m(***failed resolving arguments***)\u001b[0m\n\u001b[1;32m   1235\u001b[0m \u001b[39melif\u001b[39;00m compute:\n\u001b[1;32m   1236\u001b[0m     store_dsk \u001b[39m=\u001b[39m HighLevelGraph(layers, dependencies)\n\u001b[0;32m-> 1237\u001b[0m     compute_as_if_collection(Array, store_dsk, map_keys, \u001b[39m*\u001b[39;49m\u001b[39m*\u001b[39;49mkwargs)\n\u001b[1;32m   1238\u001b[0m     \u001b[39mreturn\u001b[39;00m \u001b[39mNone\u001b[39;00m\n\u001b[1;32m   1240\u001b[0m \u001b[39melse\u001b[39;00m:\n",
      "File \u001b[0;32m/scratch/tlezuo/miniconda3/envs/psyplot/lib/python3.9/site-packages/dask/base.py:342\u001b[0m, in \u001b[0;36mcompute_as_if_collection\u001b[0;34m(cls, dsk, keys, scheduler, get, **kwargs)\u001b[0m\n\u001b[1;32m    340\u001b[0m schedule \u001b[39m=\u001b[39m get_scheduler(scheduler\u001b[39m=\u001b[39mscheduler, \u001b[39mcls\u001b[39m\u001b[39m=\u001b[39m\u001b[39mcls\u001b[39m, get\u001b[39m=\u001b[39mget)\n\u001b[1;32m    341\u001b[0m dsk2 \u001b[39m=\u001b[39m optimization_function(\u001b[39mcls\u001b[39m)(dsk, keys, \u001b[39m*\u001b[39m\u001b[39m*\u001b[39mkwargs)\n\u001b[0;32m--> 342\u001b[0m \u001b[39mreturn\u001b[39;00m schedule(dsk2, keys, \u001b[39m*\u001b[39;49m\u001b[39m*\u001b[39;49mkwargs)\n",
      "File \u001b[0;32m/scratch/tlezuo/miniconda3/envs/psyplot/lib/python3.9/site-packages/dask/threaded.py:89\u001b[0m, in \u001b[0;36mget\u001b[0;34m(dsk, keys, cache, num_workers, pool, **kwargs)\u001b[0m\n\u001b[1;32m     86\u001b[0m     \u001b[39melif\u001b[39;00m \u001b[39misinstance\u001b[39m(pool, multiprocessing\u001b[39m.\u001b[39mpool\u001b[39m.\u001b[39mPool):\n\u001b[1;32m     87\u001b[0m         pool \u001b[39m=\u001b[39m MultiprocessingPoolExecutor(pool)\n\u001b[0;32m---> 89\u001b[0m results \u001b[39m=\u001b[39m get_async(\n\u001b[1;32m     90\u001b[0m     pool\u001b[39m.\u001b[39;49msubmit,\n\u001b[1;32m     91\u001b[0m     pool\u001b[39m.\u001b[39;49m_max_workers,\n\u001b[1;32m     92\u001b[0m     dsk,\n\u001b[1;32m     93\u001b[0m     keys,\n\u001b[1;32m     94\u001b[0m     cache\u001b[39m=\u001b[39;49mcache,\n\u001b[1;32m     95\u001b[0m     get_id\u001b[39m=\u001b[39;49m_thread_get_id,\n\u001b[1;32m     96\u001b[0m     pack_exception\u001b[39m=\u001b[39;49mpack_exception,\n\u001b[1;32m     97\u001b[0m     \u001b[39m*\u001b[39;49m\u001b[39m*\u001b[39;49mkwargs,\n\u001b[1;32m     98\u001b[0m )\n\u001b[1;32m    100\u001b[0m \u001b[39m# Cleanup pools associated to dead threads\u001b[39;00m\n\u001b[1;32m    101\u001b[0m \u001b[39mwith\u001b[39;00m pools_lock:\n",
      "File \u001b[0;32m/scratch/tlezuo/miniconda3/envs/psyplot/lib/python3.9/site-packages/dask/local.py:500\u001b[0m, in \u001b[0;36mget_async\u001b[0;34m(submit, num_workers, dsk, result, cache, get_id, rerun_exceptions_locally, pack_exception, raise_exception, callbacks, dumps, loads, chunksize, **kwargs)\u001b[0m\n\u001b[1;32m    498\u001b[0m \u001b[39mwhile\u001b[39;00m state[\u001b[39m\"\u001b[39m\u001b[39mwaiting\u001b[39m\u001b[39m\"\u001b[39m] \u001b[39mor\u001b[39;00m state[\u001b[39m\"\u001b[39m\u001b[39mready\u001b[39m\u001b[39m\"\u001b[39m] \u001b[39mor\u001b[39;00m state[\u001b[39m\"\u001b[39m\u001b[39mrunning\u001b[39m\u001b[39m\"\u001b[39m]:\n\u001b[1;32m    499\u001b[0m     fire_tasks(chunksize)\n\u001b[0;32m--> 500\u001b[0m     \u001b[39mfor\u001b[39;00m key, res_info, failed \u001b[39min\u001b[39;00m queue_get(queue)\u001b[39m.\u001b[39mresult():\n\u001b[1;32m    501\u001b[0m         \u001b[39mif\u001b[39;00m failed:\n\u001b[1;32m    502\u001b[0m             exc, tb \u001b[39m=\u001b[39m loads(res_info)\n",
      "File \u001b[0;32m/scratch/tlezuo/miniconda3/envs/psyplot/lib/python3.9/site-packages/dask/local.py:137\u001b[0m, in \u001b[0;36mqueue_get\u001b[0;34m(q)\u001b[0m\n\u001b[1;32m    136\u001b[0m \u001b[39mdef\u001b[39;00m \u001b[39mqueue_get\u001b[39m(q):\n\u001b[0;32m--> 137\u001b[0m     \u001b[39mreturn\u001b[39;00m q\u001b[39m.\u001b[39;49mget()\n",
      "File \u001b[0;32m/scratch/tlezuo/miniconda3/envs/psyplot/lib/python3.9/queue.py:171\u001b[0m, in \u001b[0;36mQueue.get\u001b[0;34m(self, block, timeout)\u001b[0m\n\u001b[1;32m    169\u001b[0m \u001b[39melif\u001b[39;00m timeout \u001b[39mis\u001b[39;00m \u001b[39mNone\u001b[39;00m:\n\u001b[1;32m    170\u001b[0m     \u001b[39mwhile\u001b[39;00m \u001b[39mnot\u001b[39;00m \u001b[39mself\u001b[39m\u001b[39m.\u001b[39m_qsize():\n\u001b[0;32m--> 171\u001b[0m         \u001b[39mself\u001b[39;49m\u001b[39m.\u001b[39;49mnot_empty\u001b[39m.\u001b[39;49mwait()\n\u001b[1;32m    172\u001b[0m \u001b[39melif\u001b[39;00m timeout \u001b[39m<\u001b[39m \u001b[39m0\u001b[39m:\n\u001b[1;32m    173\u001b[0m     \u001b[39mraise\u001b[39;00m \u001b[39mValueError\u001b[39;00m(\u001b[39m\"\u001b[39m\u001b[39m'\u001b[39m\u001b[39mtimeout\u001b[39m\u001b[39m'\u001b[39m\u001b[39m must be a non-negative number\u001b[39m\u001b[39m\"\u001b[39m)\n",
      "File \u001b[0;32m/scratch/tlezuo/miniconda3/envs/psyplot/lib/python3.9/threading.py:312\u001b[0m, in \u001b[0;36mCondition.wait\u001b[0;34m(self, timeout)\u001b[0m\n\u001b[1;32m    310\u001b[0m \u001b[39mtry\u001b[39;00m:    \u001b[39m# restore state no matter what (e.g., KeyboardInterrupt)\u001b[39;00m\n\u001b[1;32m    311\u001b[0m     \u001b[39mif\u001b[39;00m timeout \u001b[39mis\u001b[39;00m \u001b[39mNone\u001b[39;00m:\n\u001b[0;32m--> 312\u001b[0m         waiter\u001b[39m.\u001b[39;49macquire()\n\u001b[1;32m    313\u001b[0m         gotit \u001b[39m=\u001b[39m \u001b[39mTrue\u001b[39;00m\n\u001b[1;32m    314\u001b[0m     \u001b[39melse\u001b[39;00m:\n",
      "\u001b[0;31mKeyboardInterrupt\u001b[0m: "
     ]
    }
   ],
   "source": [
    "\n",
    "###############################################################################################\n",
    "## SAVE ##\n",
    "# hfbl_htd_data.to_netcdf(savepath+'hfbl_htd_data_'+run+'.nc')\n",
    "# hfbl_ts_data.to_netcdf(savepath+'hfbl_ts_data_'+run+'.nc')\n",
    "sumbl_ts_data.to_netcdf(savepath+'sumbl_ts_data_test_'+run+'.nc')\n",
    "sumbl_htd_data.to_netcdf(savepath+'sumbl_htd_data_test_'+run+'.nc')"
   ]
  },
  {
   "cell_type": "code",
   "execution_count": null,
   "metadata": {},
   "outputs": [
    {
     "ename": "OSError",
     "evalue": "no files to open",
     "output_type": "error",
     "traceback": [
      "\u001b[0;31m---------------------------------------------------------------------------\u001b[0m",
      "\u001b[0;31mOSError\u001b[0m                                   Traceback (most recent call last)",
      "Cell \u001b[0;32mIn [5], line 3\u001b[0m\n\u001b[1;32m      1\u001b[0m \u001b[39m# test if it worked\u001b[39;00m\n\u001b[1;32m      2\u001b[0m run \u001b[39m=\u001b[39m \u001b[39m'\u001b[39m\u001b[39mRUN3_noconv\u001b[39m\u001b[39m'\u001b[39m\n\u001b[0;32m----> 3\u001b[0m data_loaded\u001b[39m=\u001b[39mxarray\u001b[39m.\u001b[39mopen_mfdataset(savepath\u001b[39m+\u001b[39m\u001b[39m'\u001b[39m\u001b[39msumbl_ts_data_\u001b[39m\u001b[39m'\u001b[39m\u001b[39m+\u001b[39mrun\u001b[39m+\u001b[39m\u001b[39m'\u001b[39m\u001b[39m.nc\u001b[39m\u001b[39m'\u001b[39m)\n\u001b[1;32m      4\u001b[0m data_loaded\n",
      "File \u001b[0;32m/scratch/tlezuo/miniconda3/envs/psyplot/lib/python3.9/site-packages/xarray/backends/api.py:873\u001b[0m, in \u001b[0;36mopen_mfdataset\u001b[0;34m(paths, chunks, concat_dim, compat, preprocess, engine, data_vars, coords, combine, parallel, join, attrs_file, combine_attrs, **kwargs)\u001b[0m\n\u001b[1;32m    870\u001b[0m     paths \u001b[39m=\u001b[39m [os\u001b[39m.\u001b[39mfspath(p) \u001b[39mif\u001b[39;00m \u001b[39misinstance\u001b[39m(p, os\u001b[39m.\u001b[39mPathLike) \u001b[39melse\u001b[39;00m p \u001b[39mfor\u001b[39;00m p \u001b[39min\u001b[39;00m paths]\n\u001b[1;32m    872\u001b[0m \u001b[39mif\u001b[39;00m \u001b[39mnot\u001b[39;00m paths:\n\u001b[0;32m--> 873\u001b[0m     \u001b[39mraise\u001b[39;00m \u001b[39mOSError\u001b[39;00m(\u001b[39m\"\u001b[39m\u001b[39mno files to open\u001b[39m\u001b[39m\"\u001b[39m)\n\u001b[1;32m    875\u001b[0m \u001b[39mif\u001b[39;00m combine \u001b[39m==\u001b[39m \u001b[39m\"\u001b[39m\u001b[39mnested\u001b[39m\u001b[39m\"\u001b[39m:\n\u001b[1;32m    876\u001b[0m     \u001b[39mif\u001b[39;00m \u001b[39misinstance\u001b[39m(concat_dim, (\u001b[39mstr\u001b[39m, DataArray)) \u001b[39mor\u001b[39;00m concat_dim \u001b[39mis\u001b[39;00m \u001b[39mNone\u001b[39;00m:\n",
      "\u001b[0;31mOSError\u001b[0m: no files to open"
     ]
    }
   ],
   "source": [
    "# test if it worked\n",
    "run = 'RUN3_noconv'\n",
    "data_loaded=xarray.open_mfdataset(savepath+'sumbl_ts_data_test_'+run+'.nc')\n",
    "data_loaded"
   ]
  }
 ],
 "metadata": {
  "kernelspec": {
   "display_name": "psyplot",
   "language": "python",
   "name": "python3"
  },
  "language_info": {
   "codemirror_mode": {
    "name": "ipython",
    "version": 3
   },
   "file_extension": ".py",
   "mimetype": "text/x-python",
   "name": "python",
   "nbconvert_exporter": "python",
   "pygments_lexer": "ipython3",
   "version": "3.9.7"
  },
  "orig_nbformat": 4,
  "vscode": {
   "interpreter": {
    "hash": "478e531c87c13fe08171e1b9df5753f0dadfbce7da2a4d3339f723631ea7933b"
   }
  }
 },
 "nbformat": 4,
 "nbformat_minor": 2
}
